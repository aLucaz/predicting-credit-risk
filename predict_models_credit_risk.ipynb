{
 "cells": [
  {
   "cell_type": "markdown",
   "metadata": {},
   "source": [
    "# DESARROLLO DE MODELOS PREDICTIVOS PARA LA CLASIFICACIÓN DE RIESGOS CREDITICIOS\n",
    "\n",
    "En este notebook se presentarán las implementaciones de los 4 modelos predictivos propuestos en el paper \"\":\n",
    "- Árbol de decisión CART\n",
    "- Random Forest\n",
    "- K-Nearest Neighbors\n",
    "- Neural Networks\n",
    "\n",
    "## ESTRUCTURA\n",
    "Este trabajo se estructurará de acuerdo a las fases descritas en el framework CRISP DM:\n",
    "1. Comprensión del negocio\n",
    "2. Comprensión de los datos\n",
    "3. Preparación de los datos\n",
    "4. Modelado\n",
    "5. Evaluación\n",
    "6. ~~Despliegue (ausente)~~\n"
   ]
  },
  {
   "cell_type": "markdown",
   "metadata": {},
   "source": [
    "## 1. COMPRENSIÓN DEL NEGOCIO\n",
    "\n",
    "En los servicios financieros, específicamente en la atención a una solicitud de crédito para un fin específico, es necesaria la evaluación del solicitante para determinar si este podrá cancelar las cuotas o deudas que conlleva el crédito. Para ello, las entidades financieras se basan en 5 factores: Carácter, Capacidad, Capital, Colateral, Condiciones.\n",
    "\n",
    "Estos cinco factores indican la estabilidad laboral del solicitante por medio de antecedentes, si posee solvencia económica para pagar el préstamo (proporción entre deudas e ingresos), la diferencia entre sus valores activos y pasivos, los activos que pueden ser expropiados si no cumple con el pago, y las circunstancias externas que puedan afectar la situación financiera del solicitante. Cabe aclarar que estos 5 factores son básicos para una evaluación, por lo que las entidades pueden aumentar y modificar factores para una evaluación más exhaustiva.\n",
    "\n",
    "En este caso, solo se cuenta con data de 9 atributos de los solicitantes, por lo que no se podrá suplir las 5 Cs detalladas en su totalidad, pero sí se podrá observar cuáles de estos 9 atributos son los que influyen más en la decisión de clasificar a un solicitante como Riesgo Bueno o Riesgo Malo, y relacionarlos con los 5 factores descritos.\n",
    "\n",
    "### OBJETIVOS\n",
    "\n",
    "El objetivo de este trabajo es el de implementar 4 modelos predictivos de clasificación, evaluarlos con métricas para clasificación y comparar los resultados para determinar cuáles de estos cuatro puede ser utilizado como predictor en la evaluación de riesgos crediticios.\n",
    "\n",
    "Además, se identificarán cuáles han sido los atributos más influyentes y confirmar que estos se basan en los 5 factores detallados."
   ]
  },
  {
   "cell_type": "markdown",
   "metadata": {},
   "source": [
    "## 2. COMPRENSIÓN DE LOS DATOS\n",
    "\n",
    "### RECOPILACIÓN\n",
    "\n",
    "La data utilizada para este trabajo proviene de [...], pero se está trabajando con una derivada de ..., ya que esta última presenta solo los atributos realmente útiles. Es decir, ya se ha realizado un preprocesamiento de la data en cuestión de la selección de los atributos en base al criterio de ... ."
   ]
  },
  {
   "cell_type": "markdown",
   "metadata": {},
   "source": [
    "### COMPOSICIÓN\n",
    "\n",
    "Se procede a analizar la data en base a sus atributos y a las 1000 observaciones:"
   ]
  },
  {
   "cell_type": "code",
   "execution_count": 2,
   "metadata": {},
   "outputs": [],
   "source": [
    "import numpy as np\n",
    "import pandas as pd\n",
    "import seaborn as sns\n",
    "import matplotlib.pyplot as plt\n",
    "%matplotlib inline"
   ]
  },
  {
   "cell_type": "code",
   "execution_count": 3,
   "metadata": {},
   "outputs": [
    {
     "data": {
      "text/html": [
       "<div>\n",
       "<style scoped>\n",
       "    .dataframe tbody tr th:only-of-type {\n",
       "        vertical-align: middle;\n",
       "    }\n",
       "\n",
       "    .dataframe tbody tr th {\n",
       "        vertical-align: top;\n",
       "    }\n",
       "\n",
       "    .dataframe thead th {\n",
       "        text-align: right;\n",
       "    }\n",
       "</style>\n",
       "<table border=\"1\" class=\"dataframe\">\n",
       "  <thead>\n",
       "    <tr style=\"text-align: right;\">\n",
       "      <th></th>\n",
       "      <th>Age</th>\n",
       "      <th>Sex</th>\n",
       "      <th>Job</th>\n",
       "      <th>Housing</th>\n",
       "      <th>Saving accounts</th>\n",
       "      <th>Checking account</th>\n",
       "      <th>Credit amount</th>\n",
       "      <th>Duration</th>\n",
       "      <th>Purpose</th>\n",
       "      <th>Risk</th>\n",
       "    </tr>\n",
       "  </thead>\n",
       "  <tbody>\n",
       "    <tr>\n",
       "      <th>0</th>\n",
       "      <td>67</td>\n",
       "      <td>male</td>\n",
       "      <td>2</td>\n",
       "      <td>own</td>\n",
       "      <td>NaN</td>\n",
       "      <td>little</td>\n",
       "      <td>1169</td>\n",
       "      <td>6</td>\n",
       "      <td>radio/TV</td>\n",
       "      <td>good</td>\n",
       "    </tr>\n",
       "    <tr>\n",
       "      <th>1</th>\n",
       "      <td>22</td>\n",
       "      <td>female</td>\n",
       "      <td>2</td>\n",
       "      <td>own</td>\n",
       "      <td>little</td>\n",
       "      <td>moderate</td>\n",
       "      <td>5951</td>\n",
       "      <td>48</td>\n",
       "      <td>radio/TV</td>\n",
       "      <td>bad</td>\n",
       "    </tr>\n",
       "    <tr>\n",
       "      <th>2</th>\n",
       "      <td>49</td>\n",
       "      <td>male</td>\n",
       "      <td>1</td>\n",
       "      <td>own</td>\n",
       "      <td>little</td>\n",
       "      <td>NaN</td>\n",
       "      <td>2096</td>\n",
       "      <td>12</td>\n",
       "      <td>education</td>\n",
       "      <td>good</td>\n",
       "    </tr>\n",
       "    <tr>\n",
       "      <th>3</th>\n",
       "      <td>45</td>\n",
       "      <td>male</td>\n",
       "      <td>2</td>\n",
       "      <td>free</td>\n",
       "      <td>little</td>\n",
       "      <td>little</td>\n",
       "      <td>7882</td>\n",
       "      <td>42</td>\n",
       "      <td>furniture/equipment</td>\n",
       "      <td>good</td>\n",
       "    </tr>\n",
       "    <tr>\n",
       "      <th>4</th>\n",
       "      <td>53</td>\n",
       "      <td>male</td>\n",
       "      <td>2</td>\n",
       "      <td>free</td>\n",
       "      <td>little</td>\n",
       "      <td>little</td>\n",
       "      <td>4870</td>\n",
       "      <td>24</td>\n",
       "      <td>car</td>\n",
       "      <td>bad</td>\n",
       "    </tr>\n",
       "  </tbody>\n",
       "</table>\n",
       "</div>"
      ],
      "text/plain": [
       "   Age     Sex  Job Housing Saving accounts Checking account  Credit amount  \\\n",
       "0   67    male    2     own             NaN           little           1169   \n",
       "1   22  female    2     own          little         moderate           5951   \n",
       "2   49    male    1     own          little              NaN           2096   \n",
       "3   45    male    2    free          little           little           7882   \n",
       "4   53    male    2    free          little           little           4870   \n",
       "\n",
       "   Duration              Purpose  Risk  \n",
       "0         6             radio/TV  good  \n",
       "1        48             radio/TV   bad  \n",
       "2        12            education  good  \n",
       "3        42  furniture/equipment  good  \n",
       "4        24                  car   bad  "
      ]
     },
     "execution_count": 3,
     "metadata": {},
     "output_type": "execute_result"
    }
   ],
   "source": [
    "data = pd.read_csv( 'data/german_credit_data.csv', index_col=0)\n",
    "data.head()"
   ]
  },
  {
   "cell_type": "code",
   "execution_count": 4,
   "metadata": {},
   "outputs": [
    {
     "data": {
      "text/plain": [
       "(1000, 10)"
      ]
     },
     "execution_count": 4,
     "metadata": {},
     "output_type": "execute_result"
    }
   ],
   "source": [
    "#Número de filas y columnas\n",
    "data.shape"
   ]
  },
  {
   "cell_type": "markdown",
   "metadata": {},
   "source": [
    "#### DATOS NULOS PRESENTES EN LA DATA\n",
    "Si se analizan los tipos de datos de los atributos, observamos que 6 de 9 son de tipo `object`, los cuales son propensos a presentar datos nulos, por lo que se analizarán si se ha representado correctamente o no a un dato nulo dentro de las observaciones."
   ]
  },
  {
   "cell_type": "code",
   "execution_count": 5,
   "metadata": {},
   "outputs": [
    {
     "data": {
      "text/plain": [
       "Age                  int64\n",
       "Sex                 object\n",
       "Job                  int64\n",
       "Housing             object\n",
       "Saving accounts     object\n",
       "Checking account    object\n",
       "Credit amount        int64\n",
       "Duration             int64\n",
       "Purpose             object\n",
       "Risk                object\n",
       "dtype: object"
      ]
     },
     "execution_count": 5,
     "metadata": {},
     "output_type": "execute_result"
    }
   ],
   "source": [
    "#Tipo de datos en la tabla\n",
    "data.dtypes"
   ]
  },
  {
   "cell_type": "code",
   "execution_count": 6,
   "metadata": {},
   "outputs": [
    {
     "data": {
      "image/png": "[encoded data removed]",
      "text/plain": [
       "<Figure size 432x288 with 1 Axes>"
      ]
     },
     "metadata": {
      "needs_background": "light"
     },
     "output_type": "display_data"
    }
   ],
   "source": [
    "#Cantidad de datos nulos en las columnas\n",
    "\n",
    "fig, ax = plt.subplots()\n",
    "x_null, y_null = data.columns, data.isna().sum()\n",
    "\n",
    "ax.barh(x_null, y_null)\n",
    "ax.set_title(\"Cantidad de datos nulos de cada atributo\")\n",
    "ax.invert_yaxis()\n",
    "ax.set_xlabel(\"N° datos nulos\")\n",
    "for i, v in enumerate(y_null):\n",
    "    ax.text(v + 3, i + .25, str(v), color='black', fontweight='regular')\n",
    "\n",
    "plt.show()"
   ]
  },
  {
   "cell_type": "markdown",
   "metadata": {},
   "source": [
    "Como se intuía, las clases que presentan mayor cantidad de datos nulos son `Saving accounts` y `Checking account`. Se presentan entonces todas las clases de los atributos que son de tipo `object`:"
   ]
  },
  {
   "cell_type": "code",
   "execution_count": 7,
   "metadata": {},
   "outputs": [
    {
     "name": "stdout",
     "output_type": "stream",
     "text": [
      "Sex             : male, female\n",
      "Housing         : own, free, rent\n",
      "Saving accounts : nan, little, quite rich, rich, moderate\n",
      "Checking account: little, moderate, nan, rich\n",
      "Purpose         : radio/TV, education, furniture/equipment, car, business, domestic appliances, repairs, vacation/others\n",
      "Risk            : good, bad\n"
     ]
    }
   ],
   "source": [
    "# información única en las columnas de datos discretos\n",
    "for col in data.select_dtypes(include=\"object\"):\n",
    "    print(f\"{col:16}: \", end=\"\"), print(*(data[col].unique()), sep=\", \")"
   ]
  },
  {
   "cell_type": "markdown",
   "metadata": {},
   "source": [
    "~~__OBSERVACIÓN:__ A pesar de que no se presentan los datos nulos como únicos, se puede apreciar que en las columnas `Checking accounts` y `Saving accounts` presentan el dato único `nan`, lo que indicaría que las columnas podrían alvergar otro formato de indicar que sus observaciones presentan datos nulos.~~"
   ]
  },
  {
   "cell_type": "markdown",
   "metadata": {},
   "source": [
    "#### ATRIBUTO JOB COMO TIPO ENTERO\n",
    "\n",
    "Analizamos entonces toda la data entera, y se puede apreciar que el atributo `Job`, a pesar de no ser de tipo `object`, presenta 4 valores únicos. Esto se debe a que cada número describe al solicitante de la siguiente manera:\n",
    "- 0 - unskilled and non-resident\n",
    "- 1 - unskilled and resident\n",
    "- 2 - skilled\n",
    "- 3 - highly skilled"
   ]
  },
  {
   "cell_type": "code",
   "execution_count": 8,
   "metadata": {},
   "outputs": [
    {
     "data": {
      "text/plain": [
       "Age                  53\n",
       "Sex                   2\n",
       "Job                   4\n",
       "Housing               3\n",
       "Saving accounts       4\n",
       "Checking account      3\n",
       "Credit amount       921\n",
       "Duration             33\n",
       "Purpose               8\n",
       "Risk                  2\n",
       "dtype: int64"
      ]
     },
     "execution_count": 8,
     "metadata": {},
     "output_type": "execute_result"
    }
   ],
   "source": [
    "data.nunique()"
   ]
  },
  {
   "cell_type": "markdown",
   "metadata": {},
   "source": [
    "#### BALANCE DE CLASES EN TARGET"
   ]
  },
  {
   "cell_type": "markdown",
   "metadata": {},
   "source": [
    "Según la gráfica, el 70% de los datos corresponden a la categoría de Riesgo Bueno. El desbalance entre las dos clases del target es evidente, pero no en extremo. Sin embargo, se optará por realizar las métricas de precisión y *recall*, además de una representación gráfica como la curva ROC, para todos los modelos de clasificación que se implementen y observar quién modela mejor los datos."
   ]
  },
  {
   "cell_type": "code",
   "execution_count": 9,
   "metadata": {
    "scrolled": true
   },
   "outputs": [
    {
     "data": {
      "image/png": "[encoded data removed]",
      "text/plain": [
       "<Figure size 432x288 with 1 Axes>"
      ]
     },
     "metadata": {},
     "output_type": "display_data"
    }
   ],
   "source": [
    "fig, ax = plt.subplots()\n",
    "ax.pie(data['Risk'].value_counts(), autopct=\"%.0f%%\", labels=data[\"Risk\"].unique(), shadow=True)\n",
    "ax.set_title(\"Proporción de observaciones catalogadas por Riesgo (1000 observaciones)\")\n",
    "plt.show()"
   ]
  },
  {
   "cell_type": "markdown",
   "metadata": {},
   "source": [
    "### CORRELACIÓN"
   ]
  },
  {
   "cell_type": "code",
   "execution_count": 14,
   "metadata": {},
   "outputs": [
    {
     "data": {
      "text/plain": [
       "<matplotlib.axes._subplots.AxesSubplot at 0x1f9c602b4e0>"
      ]
     },
     "execution_count": 14,
     "metadata": {},
     "output_type": "execute_result"
    },
    {
     "data": {
      "image/png": "[encoded data removed]",
      "text/plain": [
       "<Figure size 432x288 with 2 Axes>"
      ]
     },
     "metadata": {
      "needs_background": "light"
     },
     "output_type": "display_data"
    }
   ],
   "source": [
    "# sns.heatmap(data.corr(), square=True, cmap='RdYlGn')"
   ]
  },
  {
   "cell_type": "markdown",
   "metadata": {},
   "source": [
    "### CONCLUSIONES DE LA DATA OBSERVADA\n",
    "\n",
    "1. En los atributos disponibles, se encuentra `Sex`, al cual no se le considerará como un atributo necesario\n",
    "2. El atributo `Job` se está representando como `int`, pero se le considerará como **categórico**\n",
    "3. Los tipos de los atributos son los siguientes:\n",
    "    - __nominal__: Sex, Housing, Job, Purpose, Risk\n",
    "    - __ordinal__: Saving accounts, Checking account\n",
    "    - __cardinal__: Age, Credit amount, Duration\n",
    "4. De acuerdo al tipo del atributo, se normalizarán y modificarán para un mejor procesamiento al momento de entrenar a los modelos\n",
    "4. Se han encontrado datos nulos en los atributos `Saving accounts` y `Checking account`, siendo este último el que presenta alrededor de 40% de data faltante, por lo que se considera aplicar métricas además del _accuracy_."
   ]
  },
  {
   "cell_type": "markdown",
   "metadata": {},
   "source": [
    "## 2. PREPARACIÓN DE LOS DATOS\n"
   ]
  },
  {
   "cell_type": "markdown",
   "metadata": {},
   "source": [
    "### Eliminación de atributo Sex\n",
    "Se eliminará el atributo `Sex` con el fin de evitar de que el modelo de clasificación considere el sexo de un solicitante para asignarle un Riesgo Bueno o Riegos Malo."
   ]
  },
  {
   "cell_type": "code",
   "execution_count": 16,
   "metadata": {},
   "outputs": [
    {
     "data": {
      "text/html": [
       "<div>\n",
       "<style scoped>\n",
       "    .dataframe tbody tr th:only-of-type {\n",
       "        vertical-align: middle;\n",
       "    }\n",
       "\n",
       "    .dataframe tbody tr th {\n",
       "        vertical-align: top;\n",
       "    }\n",
       "\n",
       "    .dataframe thead th {\n",
       "        text-align: right;\n",
       "    }\n",
       "</style>\n",
       "<table border=\"1\" class=\"dataframe\">\n",
       "  <thead>\n",
       "    <tr style=\"text-align: right;\">\n",
       "      <th></th>\n",
       "      <th>Age</th>\n",
       "      <th>Job</th>\n",
       "      <th>Housing</th>\n",
       "      <th>Saving accounts</th>\n",
       "      <th>Checking account</th>\n",
       "      <th>Credit amount</th>\n",
       "      <th>Duration</th>\n",
       "      <th>Purpose</th>\n",
       "      <th>Risk</th>\n",
       "    </tr>\n",
       "  </thead>\n",
       "  <tbody>\n",
       "    <tr>\n",
       "      <th>0</th>\n",
       "      <td>67</td>\n",
       "      <td>2</td>\n",
       "      <td>own</td>\n",
       "      <td>NaN</td>\n",
       "      <td>little</td>\n",
       "      <td>1169</td>\n",
       "      <td>6</td>\n",
       "      <td>radio/TV</td>\n",
       "      <td>good</td>\n",
       "    </tr>\n",
       "    <tr>\n",
       "      <th>1</th>\n",
       "      <td>22</td>\n",
       "      <td>2</td>\n",
       "      <td>own</td>\n",
       "      <td>little</td>\n",
       "      <td>moderate</td>\n",
       "      <td>5951</td>\n",
       "      <td>48</td>\n",
       "      <td>radio/TV</td>\n",
       "      <td>bad</td>\n",
       "    </tr>\n",
       "    <tr>\n",
       "      <th>2</th>\n",
       "      <td>49</td>\n",
       "      <td>1</td>\n",
       "      <td>own</td>\n",
       "      <td>little</td>\n",
       "      <td>NaN</td>\n",
       "      <td>2096</td>\n",
       "      <td>12</td>\n",
       "      <td>education</td>\n",
       "      <td>good</td>\n",
       "    </tr>\n",
       "    <tr>\n",
       "      <th>3</th>\n",
       "      <td>45</td>\n",
       "      <td>2</td>\n",
       "      <td>free</td>\n",
       "      <td>little</td>\n",
       "      <td>little</td>\n",
       "      <td>7882</td>\n",
       "      <td>42</td>\n",
       "      <td>furniture/equipment</td>\n",
       "      <td>good</td>\n",
       "    </tr>\n",
       "    <tr>\n",
       "      <th>4</th>\n",
       "      <td>53</td>\n",
       "      <td>2</td>\n",
       "      <td>free</td>\n",
       "      <td>little</td>\n",
       "      <td>little</td>\n",
       "      <td>4870</td>\n",
       "      <td>24</td>\n",
       "      <td>car</td>\n",
       "      <td>bad</td>\n",
       "    </tr>\n",
       "  </tbody>\n",
       "</table>\n",
       "</div>"
      ],
      "text/plain": [
       "   Age  Job Housing Saving accounts Checking account  Credit amount  Duration  \\\n",
       "0   67    2     own             NaN           little           1169         6   \n",
       "1   22    2     own          little         moderate           5951        48   \n",
       "2   49    1     own          little              NaN           2096        12   \n",
       "3   45    2    free          little           little           7882        42   \n",
       "4   53    2    free          little           little           4870        24   \n",
       "\n",
       "               Purpose  Risk  \n",
       "0             radio/TV  good  \n",
       "1             radio/TV   bad  \n",
       "2            education  good  \n",
       "3  furniture/equipment  good  \n",
       "4                  car   bad  "
      ]
     },
     "execution_count": 16,
     "metadata": {},
     "output_type": "execute_result"
    }
   ],
   "source": [
    "clean_data = data.drop(labels=\"Sex\", axis=1, inplace=False)\n",
    "clean_data.head()"
   ]
  },
  {
   "cell_type": "markdown",
   "metadata": {},
   "source": [
    "### Llenado de datos nulos\n",
    "Los atributos `Saving accounts` y `Checking account` presentan datos nulos en sus registros, por lo que se utilizará la moda de cada una para poder llenarlas ya que son de tipo categórico."
   ]
  },
  {
   "cell_type": "code",
   "execution_count": 19,
   "metadata": {},
   "outputs": [
    {
     "name": "stdout",
     "output_type": "stream",
     "text": [
      "Moda de Saving accounts :  little\n",
      "Moda de Checking account:  little\n"
     ]
    }
   ],
   "source": [
    "print(\"Moda de Saving accounts : \", clean_data[\"Saving accounts\"].mode()[0])\n",
    "print(\"Moda de Checking account: \", clean_data[\"Checking account\"].mode()[0])"
   ]
  },
  {
   "cell_type": "code",
   "execution_count": 20,
   "metadata": {},
   "outputs": [],
   "source": [
    "clean_data['Saving accounts'].fillna(data['Saving accounts'].mode()[0], inplace=True)\n",
    "clean_data['Checking account'].fillna(data['Checking account'].mode()[0], inplace=True)"
   ]
  },
  {
   "cell_type": "code",
   "execution_count": 23,
   "metadata": {},
   "outputs": [
    {
     "data": {
      "text/plain": [
       "Age                 0\n",
       "Job                 0\n",
       "Housing             0\n",
       "Saving accounts     0\n",
       "Checking account    0\n",
       "Credit amount       0\n",
       "Duration            0\n",
       "Purpose             0\n",
       "Risk                0\n",
       "dtype: int64"
      ]
     },
     "execution_count": 23,
     "metadata": {},
     "output_type": "execute_result"
    }
   ],
   "source": [
    "clean_data.isna().sum()"
   ]
  },
  {
   "cell_type": "markdown",
   "metadata": {},
   "source": [
    "### Transformación de datos cualitativos a cuantitativos"
   ]
  },
  {
   "cell_type": "markdown",
   "metadata": {},
   "source": [
    "Una vez tenemos los datos sin valores faltantes, procedemos a representarlos numéricamente para que los modelos a implementar puedan utilizarlos como inputs para sus algoritmos. En este caso, se convertirán los siguientes atributos:\n",
    "- ~~Sex~~ (ha sido eliminada)\n",
    "- Housing\n",
    "- Saving accounts\n",
    "- Checking account\n",
    "- Purpose\n",
    "- Risk"
   ]
  },
  {
   "cell_type": "code",
   "execution_count": 25,
   "metadata": {},
   "outputs": [
    {
     "data": {
      "text/html": [
       "<div>\n",
       "<style scoped>\n",
       "    .dataframe tbody tr th:only-of-type {\n",
       "        vertical-align: middle;\n",
       "    }\n",
       "\n",
       "    .dataframe tbody tr th {\n",
       "        vertical-align: top;\n",
       "    }\n",
       "\n",
       "    .dataframe thead th {\n",
       "        text-align: right;\n",
       "    }\n",
       "</style>\n",
       "<table border=\"1\" class=\"dataframe\">\n",
       "  <thead>\n",
       "    <tr style=\"text-align: right;\">\n",
       "      <th></th>\n",
       "      <th>Age</th>\n",
       "      <th>Job</th>\n",
       "      <th>Housing</th>\n",
       "      <th>Saving accounts</th>\n",
       "      <th>Checking account</th>\n",
       "      <th>Credit amount</th>\n",
       "      <th>Duration</th>\n",
       "      <th>Purpose</th>\n",
       "      <th>Risk</th>\n",
       "    </tr>\n",
       "  </thead>\n",
       "  <tbody>\n",
       "    <tr>\n",
       "      <th>0</th>\n",
       "      <td>67</td>\n",
       "      <td>2</td>\n",
       "      <td>1</td>\n",
       "      <td>0</td>\n",
       "      <td>0</td>\n",
       "      <td>1169</td>\n",
       "      <td>6</td>\n",
       "      <td>5</td>\n",
       "      <td>1</td>\n",
       "    </tr>\n",
       "    <tr>\n",
       "      <th>1</th>\n",
       "      <td>22</td>\n",
       "      <td>2</td>\n",
       "      <td>1</td>\n",
       "      <td>0</td>\n",
       "      <td>1</td>\n",
       "      <td>5951</td>\n",
       "      <td>48</td>\n",
       "      <td>5</td>\n",
       "      <td>0</td>\n",
       "    </tr>\n",
       "    <tr>\n",
       "      <th>2</th>\n",
       "      <td>49</td>\n",
       "      <td>1</td>\n",
       "      <td>1</td>\n",
       "      <td>0</td>\n",
       "      <td>0</td>\n",
       "      <td>2096</td>\n",
       "      <td>12</td>\n",
       "      <td>3</td>\n",
       "      <td>1</td>\n",
       "    </tr>\n",
       "    <tr>\n",
       "      <th>3</th>\n",
       "      <td>45</td>\n",
       "      <td>2</td>\n",
       "      <td>0</td>\n",
       "      <td>0</td>\n",
       "      <td>0</td>\n",
       "      <td>7882</td>\n",
       "      <td>42</td>\n",
       "      <td>4</td>\n",
       "      <td>1</td>\n",
       "    </tr>\n",
       "    <tr>\n",
       "      <th>4</th>\n",
       "      <td>53</td>\n",
       "      <td>2</td>\n",
       "      <td>0</td>\n",
       "      <td>0</td>\n",
       "      <td>0</td>\n",
       "      <td>4870</td>\n",
       "      <td>24</td>\n",
       "      <td>1</td>\n",
       "      <td>0</td>\n",
       "    </tr>\n",
       "  </tbody>\n",
       "</table>\n",
       "</div>"
      ],
      "text/plain": [
       "   Age  Job  Housing  Saving accounts  Checking account  Credit amount  \\\n",
       "0   67    2        1                0                 0           1169   \n",
       "1   22    2        1                0                 1           5951   \n",
       "2   49    1        1                0                 0           2096   \n",
       "3   45    2        0                0                 0           7882   \n",
       "4   53    2        0                0                 0           4870   \n",
       "\n",
       "   Duration  Purpose  Risk  \n",
       "0         6        5     1  \n",
       "1        48        5     0  \n",
       "2        12        3     1  \n",
       "3        42        4     1  \n",
       "4        24        1     0  "
      ]
     },
     "execution_count": 25,
     "metadata": {},
     "output_type": "execute_result"
    }
   ],
   "source": [
    "from sklearn.preprocessing import LabelEncoder \n",
    "\n",
    "def encode_features(pre_data):\n",
    "    features = ['Housing','Saving accounts','Checking account','Purpose', 'Risk']\n",
    "\n",
    "    for feature in features:\n",
    "        le = LabelEncoder()\n",
    "        le = le.fit(pre_data[feature])\n",
    "        pre_data[feature] = le.transform(pre_data[feature])\n",
    "\n",
    "    return pre_data\n",
    "    \n",
    "clean_data = encode_features(clean_data)\n",
    "clean_data.head()"
   ]
  },
  {
   "cell_type": "markdown",
   "metadata": {},
   "source": [
    "Ahora se tiene a todos como datos numéricos, de los cuales `Age`, `Credit amount` y `Duration` no son categóricos, pero que en los modelos se trabajarán con intervalos."
   ]
  },
  {
   "cell_type": "code",
   "execution_count": 26,
   "metadata": {},
   "outputs": [
    {
     "data": {
      "text/plain": [
       "Age                 int64\n",
       "Job                 int64\n",
       "Housing             int32\n",
       "Saving accounts     int32\n",
       "Checking account    int32\n",
       "Credit amount       int64\n",
       "Duration            int64\n",
       "Purpose             int32\n",
       "Risk                int32\n",
       "dtype: object"
      ]
     },
     "execution_count": 26,
     "metadata": {},
     "output_type": "execute_result"
    }
   ],
   "source": [
    "clean_data.dtypes"
   ]
  },
  {
   "cell_type": "markdown",
   "metadata": {},
   "source": [
    "## 3. MODELADO\n",
    "Los modelos propuestos para la clasificación son los siguientes:\n",
    "- Logistic Regression\n",
    "- Random Forest\n",
    "- K-Nearest Neighbors\n",
    "\n",
    "Para el entrenamiento, se utilizará la siguiente data de entrenamiento:"
   ]
  },
  {
   "cell_type": "code",
   "execution_count": 30,
   "metadata": {},
   "outputs": [
    {
     "name": "stdout",
     "output_type": "stream",
     "text": [
      "Train shape     : (700, 8)\n",
      "Validation shape: (300, 8)\n"
     ]
    }
   ],
   "source": [
    "from sklearn.model_selection import train_test_split\n",
    "\n",
    "\n",
    "x = clean_data.drop('Risk',axis=1).values\n",
    "y = clean_data['Risk'].values\n",
    "\n",
    "x_train, x_val, y_train, y_val = train_test_split(x, y, test_size=0.3, random_state=7)\n",
    "\n",
    "print(f'Train shape     : {x_train.shape}')\n",
    "print(f'Validation shape: {x_val.shape}')"
   ]
  },
  {
   "cell_type": "markdown",
   "metadata": {},
   "source": [
    "### LOGISTIC REGRESSION"
   ]
  },
  {
   "cell_type": "markdown",
   "metadata": {},
   "source": []
  },
  {
   "cell_type": "code",
   "execution_count": null,
   "metadata": {},
   "outputs": [],
   "source": []
  },
  {
   "cell_type": "markdown",
   "metadata": {},
   "source": [
    "### RANDOM FOREST"
   ]
  },
  {
   "cell_type": "markdown",
   "metadata": {},
   "source": []
  },
  {
   "cell_type": "code",
   "execution_count": null,
   "metadata": {},
   "outputs": [],
   "source": []
  },
  {
   "cell_type": "markdown",
   "metadata": {},
   "source": [
    "### K-NEAREST NEIGHBORS"
   ]
  },
  {
   "cell_type": "markdown",
   "metadata": {},
   "source": []
  },
  {
   "cell_type": "code",
   "execution_count": null,
   "metadata": {},
   "outputs": [],
   "source": []
  },
  {
   "cell_type": "markdown",
   "metadata": {},
   "source": [
    "## 4. EVALUACIÓN"
   ]
  },
  {
   "cell_type": "code",
   "execution_count": null,
   "metadata": {},
   "outputs": [],
   "source": []
  },
  {
   "cell_type": "code",
   "execution_count": 19,
   "metadata": {},
   "outputs": [
    {
     "data": {
      "text/plain": [
       "RandomForestClassifier(bootstrap=True, class_weight=None, criterion='gini',\n",
       "            max_depth=10, max_features='auto', max_leaf_nodes=None,\n",
       "            min_impurity_decrease=0.0, min_impurity_split=None,\n",
       "            min_samples_leaf=1, min_samples_split=2,\n",
       "            min_weight_fraction_leaf=0.0, n_estimators=50, n_jobs=-1,\n",
       "            oob_score=False, random_state=None, verbose=0, warm_start=True)"
      ]
     },
     "execution_count": 19,
     "metadata": {},
     "output_type": "execute_result"
    }
   ],
   "source": [
    "from sklearn.ensemble import RandomForestClassifier\n",
    "\n",
    "rfc = RandomForestClassifier(criterion='gini',max_depth=10, n_estimators=50, n_jobs=-1, warm_start=True)\n",
    "rfc.fit(x_train, y_train)\n"
   ]
  },
  {
   "cell_type": "code",
   "execution_count": 20,
   "metadata": {},
   "outputs": [
    {
     "data": {
      "text/plain": [
       "0.92375"
      ]
     },
     "execution_count": 20,
     "metadata": {},
     "output_type": "execute_result"
    }
   ],
   "source": [
    "rfc.score(x_train, y_train)"
   ]
  },
  {
   "cell_type": "code",
   "execution_count": 21,
   "metadata": {},
   "outputs": [
    {
     "data": {
      "text/plain": [
       "0.725"
      ]
     },
     "execution_count": 21,
     "metadata": {},
     "output_type": "execute_result"
    }
   ],
   "source": [
    "rfc.score(x_val, y_val)"
   ]
  },
  {
   "cell_type": "markdown",
   "metadata": {},
   "source": [
    "#### Usando KFold"
   ]
  },
  {
   "cell_type": "code",
   "execution_count": 22,
   "metadata": {},
   "outputs": [
    {
     "name": "stdout",
     "output_type": "stream",
     "text": [
      "KFold(n_splits=10, random_state=None, shuffle=False)\n"
     ]
    }
   ],
   "source": [
    "from sklearn.model_selection import KFold\n",
    "NSplits = 10\n",
    "kf = KFold(n_splits=NSplits)\n",
    "kf.get_n_splits(x)\n",
    "print(kf)"
   ]
  },
  {
   "cell_type": "code",
   "execution_count": 23,
   "metadata": {},
   "outputs": [],
   "source": [
    "from sklearn import metrics"
   ]
  },
  {
   "cell_type": "code",
   "execution_count": 24,
   "metadata": {},
   "outputs": [
    {
     "name": "stdout",
     "output_type": "stream",
     "text": [
      "Accuracy Folder 81.0\n",
      "Accuracy Folder 68.0\n",
      "Accuracy Folder 78.0\n",
      "Accuracy Folder 76.0\n",
      "Accuracy Folder 75.0\n",
      "Accuracy Folder 63.0\n",
      "Accuracy Folder 73.0\n",
      "Accuracy Folder 75.0\n",
      "Accuracy Folder 70.0\n",
      "Accuracy Folder 70.0\n",
      "Accuracy General: 72.9\n"
     ]
    }
   ],
   "source": [
    "AccTotal = 0\n",
    "\n",
    "for train_index, test_index in kf.split(x):\n",
    "    X_train, X_test = x.values[train_index], x.values[test_index]\n",
    "    Y_train, Y_test = y.values[train_index], y.values[test_index]\n",
    "    \n",
    "    rfcl = RandomForestClassifier(criterion='gini',max_depth=10, n_estimators=50, n_jobs=-1, warm_start=True, random_state=0)\n",
    "    rfcl.fit(X_train, Y_train)\n",
    "\n",
    "    Y_pred = rfcl.predict(X_test)\n",
    "    AccFolder = metrics.accuracy_score(Y_test, Y_pred)*100\n",
    "    print(\"Accuracy Folder\", AccFolder)\n",
    "  \n",
    "    AccTotal += AccFolder\n",
    "  \n",
    "print(\"Accuracy General:\", AccTotal/NSplits)\n"
   ]
  },
  {
   "cell_type": "markdown",
   "metadata": {},
   "source": [
    "### Tercer Modelo: KNN"
   ]
  },
  {
   "cell_type": "code",
   "execution_count": 25,
   "metadata": {},
   "outputs": [
    {
     "name": "stdout",
     "output_type": "stream",
     "text": [
      "70.5\n"
     ]
    }
   ],
   "source": [
    "from sklearn.neighbors import KNeighborsClassifier\n",
    "\n",
    "knn = KNeighborsClassifier(n_neighbors= 18, p=3)\n",
    "knn.fit(x_train, y_train)\n",
    "\n",
    "y_pred = knn.predict(x_val)\n",
    "print(metrics.accuracy_score(y_val,y_pred)*100)\n"
   ]
  },
  {
   "cell_type": "markdown",
   "metadata": {},
   "source": [
    "### Cuarto Modelo: Redes Neuronales"
   ]
  },
  {
   "cell_type": "code",
   "execution_count": 88,
   "metadata": {},
   "outputs": [
    {
     "name": "stdout",
     "output_type": "stream",
     "text": [
      "Training set score: 0.691250\n",
      "Test set score: 0.735000\n"
     ]
    }
   ],
   "source": [
    "from sklearn.neural_network import MLPClassifier\n",
    "mlp = MLPClassifier(hidden_layer_sizes = (100,),solver='sgd', learning_rate='adaptive')\n",
    "mlp.fit(x_train, y_train)    \n",
    "\n",
    "print(\"Training set score: %f\" % mlp.score(x_train, y_train))\n",
    "print(\"Test set score: %f\" % mlp.score(x_val, y_val))\n"
   ]
  },
  {
   "cell_type": "markdown",
   "metadata": {},
   "source": [
    "## Características más importantes"
   ]
  },
  {
   "cell_type": "markdown",
   "metadata": {},
   "source": [
    "### Árbol de decisión"
   ]
  },
  {
   "cell_type": "code",
   "execution_count": 381,
   "metadata": {},
   "outputs": [
    {
     "name": "stdout",
     "output_type": "stream",
     "text": [
      "('Age', 0.18947256184974318)\n",
      "('Sex', 0.007757241442696397)\n",
      "('Job', 0.050646120681734096)\n",
      "('Housing', 0.08496466128453149)\n",
      "('Saving accounts', 0.041621492235041864)\n",
      "('Checking account', 0.03242567838939556)\n",
      "('Credit amount', 0.34561915255006725)\n",
      "('Duration', 0.1736143669672264)\n",
      "('Purpose', 0.07387872459956382)\n"
     ]
    }
   ],
   "source": [
    "columnsNames = data.columns.values\n",
    "listOfColumnNames = list(columnsNames)\n",
    "\n",
    "for feature in zip(listOfColumnNames, dtc.feature_importances_):\n",
    "    print(feature)"
   ]
  },
  {
   "cell_type": "code",
   "execution_count": 382,
   "metadata": {},
   "outputs": [
    {
     "name": "stdout",
     "output_type": "stream",
     "text": [
      "Age\n",
      "Credit amount\n",
      "Duration\n"
     ]
    }
   ],
   "source": [
    "from sklearn.feature_selection import SelectFromModel\n",
    "\n",
    "select_featuresDT = SelectFromModel(dtc, threshold=0.09)\n",
    "select_featuresDT.fit(x_train, y_train)\n",
    "\n",
    "for feature_list_index in select_featuresDT.get_support(indices=True):\n",
    "    print(listOfColumnNames[feature_list_index])"
   ]
  },
  {
   "cell_type": "markdown",
   "metadata": {},
   "source": [
    "### Random Forest"
   ]
  },
  {
   "cell_type": "code",
   "execution_count": 383,
   "metadata": {},
   "outputs": [
    {
     "name": "stdout",
     "output_type": "stream",
     "text": [
      "('Age', 0.1953912034899732)\n",
      "('Sex', 0.036290389822295044)\n",
      "('Job', 0.06066254041826068)\n",
      "('Housing', 0.05407072826456996)\n",
      "('Saving accounts', 0.05382532392052596)\n",
      "('Checking account', 0.046923676812187363)\n",
      "('Credit amount', 0.28628259835740943)\n",
      "('Duration', 0.17106109001863412)\n",
      "('Purpose', 0.09549244889614414)\n"
     ]
    }
   ],
   "source": [
    "for feature in zip(listOfColumnNames, rfc.feature_importances_):\n",
    "    print(feature)"
   ]
  },
  {
   "cell_type": "code",
   "execution_count": 385,
   "metadata": {},
   "outputs": [
    {
     "name": "stdout",
     "output_type": "stream",
     "text": [
      "Age\n",
      "Credit amount\n",
      "Duration\n"
     ]
    }
   ],
   "source": [
    "select_featuresRT = SelectFromModel(rfc, threshold=0.09)\n",
    "select_featuresRT.fit(x_train, y_train)\n",
    "\n",
    "for feature_list_index in select_featuresRT.get_support(indices=True):\n",
    "    print(listOfColumnNames[feature_list_index])"
   ]
  },
  {
   "cell_type": "code",
   "execution_count": null,
   "metadata": {},
   "outputs": [],
   "source": []
  }
 ],
 "metadata": {
  "kernelspec": {
   "display_name": "Python 3",
   "language": "python",
   "name": "python3"
  },
  "language_info": {
   "codemirror_mode": {
    "name": "ipython",
    "version": 3
   },
   "file_extension": ".py",
   "mimetype": "text/x-python",
   "name": "python",
   "nbconvert_exporter": "python",
   "pygments_lexer": "ipython3",
   "version": "3.7.1"
  }
 },
 "nbformat": 4,
 "nbformat_minor": 2
}
